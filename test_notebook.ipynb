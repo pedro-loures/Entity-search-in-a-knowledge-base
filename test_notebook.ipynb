{
 "cells": [
  {
   "cell_type": "code",
   "execution_count": 13,
   "metadata": {},
   "outputs": [
    {
     "name": "stdout",
     "output_type": "stream",
     "text": [
      "hello world\n"
     ]
    }
   ],
   "source": [
    "import indexers.indexer1 as indexer1\n",
    "import utils.utils as ut\n",
    "\n",
    "\n",
    "\n",
    "indexer1.print_hello()"
   ]
  },
  {
   "cell_type": "code",
   "execution_count": 14,
   "metadata": {},
   "outputs": [
    {
     "name": "stdout",
     "output_type": "stream",
     "text": [
      "C:/Users/PLour/OneDrive - Universidade Federal de Minas Gerais/01_Estudos/Faculdade/RI/rc/corpus/corpus.jsonl\n"
     ]
    }
   ],
   "source": [
    "print(ut.CORPUS)"
   ]
  },
  {
   "cell_type": "code",
   "execution_count": 17,
   "metadata": {},
   "outputs": [
    {
     "data": {
      "text/html": [
       "<div>\n",
       "<style scoped>\n",
       "    .dataframe tbody tr th:only-of-type {\n",
       "        vertical-align: middle;\n",
       "    }\n",
       "\n",
       "    .dataframe tbody tr th {\n",
       "        vertical-align: top;\n",
       "    }\n",
       "\n",
       "    .dataframe thead th {\n",
       "        text-align: right;\n",
       "    }\n",
       "</style>\n",
       "<table border=\"1\" class=\"dataframe\">\n",
       "  <thead>\n",
       "    <tr style=\"text-align: right;\">\n",
       "      <th></th>\n",
       "      <th>id</th>\n",
       "      <th>title</th>\n",
       "      <th>text</th>\n",
       "      <th>keywords</th>\n",
       "    </tr>\n",
       "  </thead>\n",
       "  <tbody>\n",
       "    <tr>\n",
       "      <th>0</th>\n",
       "      <td>1</td>\n",
       "      <td>!!!</td>\n",
       "      <td>!!! is a dance-punk band that formed in Sacram...</td>\n",
       "      <td>[1996 establishments in California, American i...</td>\n",
       "    </tr>\n",
       "    <tr>\n",
       "      <th>1</th>\n",
       "      <td>2</td>\n",
       "      <td>!!! (album)</td>\n",
       "      <td>!!! is the eponymous debut album by !!!. It wa...</td>\n",
       "      <td>[!!! albums, 2001 debut albums, English-langua...</td>\n",
       "    </tr>\n",
       "    <tr>\n",
       "      <th>2</th>\n",
       "      <td>3</td>\n",
       "      <td>!!Destroy-Oh-Boy!!</td>\n",
       "      <td>!!Destroy-Oh-Boy!! is the debut album by the A...</td>\n",
       "      <td>[1993 debut albums, Crypt Records albums, Engl...</td>\n",
       "    </tr>\n",
       "    <tr>\n",
       "      <th>3</th>\n",
       "      <td>4</td>\n",
       "      <td>!Action Pact!</td>\n",
       "      <td>!Action Pact! were a punk rock band, formed in...</td>\n",
       "      <td>[English punk rock groups, Musical groups dise...</td>\n",
       "    </tr>\n",
       "    <tr>\n",
       "      <th>4</th>\n",
       "      <td>5</td>\n",
       "      <td>!Arriba! La Pachanga</td>\n",
       "      <td>!Arriba! La Pachanga is an album by Mongo Sant...</td>\n",
       "      <td>[1961 albums]</td>\n",
       "    </tr>\n",
       "    <tr>\n",
       "      <th>...</th>\n",
       "      <td>...</td>\n",
       "      <td>...</td>\n",
       "      <td>...</td>\n",
       "      <td>...</td>\n",
       "    </tr>\n",
       "    <tr>\n",
       "      <th>95</th>\n",
       "      <td>96</td>\n",
       "      <td>'Abd al-Ahad Khan</td>\n",
       "      <td>'Said Abd al-Ahad Khan (26 March 1859 – 3 Janu...</td>\n",
       "      <td>[1859 births, 1911 deaths, Emirs, History of C...</td>\n",
       "    </tr>\n",
       "    <tr>\n",
       "      <th>96</th>\n",
       "      <td>97</td>\n",
       "      <td>'Abd al-Hamīd ibn Turk</td>\n",
       "      <td>ʿAbd al-Hamīd ibn Turk (fl. 830), known also a...</td>\n",
       "      <td>[9th-century Iraqi people, 9th-century mathema...</td>\n",
       "    </tr>\n",
       "    <tr>\n",
       "      <th>97</th>\n",
       "      <td>98</td>\n",
       "      <td>'Abd al-Hayy</td>\n",
       "      <td>'Abd al-Hayy (c. 1374 - Samarkand, 1405) was a...</td>\n",
       "      <td>[1374 births, 1405 deaths]</td>\n",
       "    </tr>\n",
       "    <tr>\n",
       "      <th>98</th>\n",
       "      <td>99</td>\n",
       "      <td>'Abd al-Ilah</td>\n",
       "      <td>'Abd al-Ilah of Hejaz, GCB GCMG GCVO (Arabic: ...</td>\n",
       "      <td>[1913 births, 1958 deaths, Field marshals of I...</td>\n",
       "    </tr>\n",
       "    <tr>\n",
       "      <th>99</th>\n",
       "      <td>100</td>\n",
       "      <td>'Abd al-Majid Nimer Zaghmout</td>\n",
       "      <td>Abd al-Majid Nimer Zaghmout (died 15 February ...</td>\n",
       "      <td>[2000 deaths, Palestinian people imprisoned ab...</td>\n",
       "    </tr>\n",
       "  </tbody>\n",
       "</table>\n",
       "<p>100 rows × 4 columns</p>\n",
       "</div>"
      ],
      "text/plain": [
       "     id                         title  \\\n",
       "0     1                           !!!   \n",
       "1     2                   !!! (album)   \n",
       "2     3            !!Destroy-Oh-Boy!!   \n",
       "3     4                 !Action Pact!   \n",
       "4     5          !Arriba! La Pachanga   \n",
       "..  ...                           ...   \n",
       "95   96             'Abd al-Ahad Khan   \n",
       "96   97        'Abd al-Hamīd ibn Turk   \n",
       "97   98                  'Abd al-Hayy   \n",
       "98   99                  'Abd al-Ilah   \n",
       "99  100  'Abd al-Majid Nimer Zaghmout   \n",
       "\n",
       "                                                 text  \\\n",
       "0   !!! is a dance-punk band that formed in Sacram...   \n",
       "1   !!! is the eponymous debut album by !!!. It wa...   \n",
       "2   !!Destroy-Oh-Boy!! is the debut album by the A...   \n",
       "3   !Action Pact! were a punk rock band, formed in...   \n",
       "4   !Arriba! La Pachanga is an album by Mongo Sant...   \n",
       "..                                                ...   \n",
       "95  'Said Abd al-Ahad Khan (26 March 1859 – 3 Janu...   \n",
       "96  ʿAbd al-Hamīd ibn Turk (fl. 830), known also a...   \n",
       "97  'Abd al-Hayy (c. 1374 - Samarkand, 1405) was a...   \n",
       "98  'Abd al-Ilah of Hejaz, GCB GCMG GCVO (Arabic: ...   \n",
       "99  Abd al-Majid Nimer Zaghmout (died 15 February ...   \n",
       "\n",
       "                                             keywords  \n",
       "0   [1996 establishments in California, American i...  \n",
       "1   [!!! albums, 2001 debut albums, English-langua...  \n",
       "2   [1993 debut albums, Crypt Records albums, Engl...  \n",
       "3   [English punk rock groups, Musical groups dise...  \n",
       "4                                       [1961 albums]  \n",
       "..                                                ...  \n",
       "95  [1859 births, 1911 deaths, Emirs, History of C...  \n",
       "96  [9th-century Iraqi people, 9th-century mathema...  \n",
       "97                         [1374 births, 1405 deaths]  \n",
       "98  [1913 births, 1958 deaths, Field marshals of I...  \n",
       "99  [2000 deaths, Palestinian people imprisoned ab...  \n",
       "\n",
       "[100 rows x 4 columns]"
      ]
     },
     "execution_count": 17,
     "metadata": {},
     "output_type": "execute_result"
    }
   ],
   "source": [
    "import pandas as pd\n",
    "chunks = pd.read_json(ut.CORPUS, lines=True, chunksize = 100)\n",
    "for nchonk, chonk in chunks:\n",
    "  \n",
    "  break\n",
    "chonk"
   ]
  },
  {
   "cell_type": "code",
   "execution_count": null,
   "metadata": {},
   "outputs": [
    {
     "data": {
      "text/plain": [
       "4641784"
      ]
     },
     "execution_count": 4,
     "metadata": {},
     "output_type": "execute_result"
    }
   ],
   "source": [
    "nlines = ut.file_nlines(ut.CORPUS)\n",
    "\n"
   ]
  },
  {
   "cell_type": "code",
   "execution_count": null,
   "metadata": {},
   "outputs": [],
   "source": [
    "import threading\n"
   ]
  },
  {
   "cell_type": "code",
   "execution_count": null,
   "metadata": {},
   "outputs": [],
   "source": []
  }
 ],
 "metadata": {
  "kernelspec": {
   "display_name": "Python 3.9.12 ('base')",
   "language": "python",
   "name": "python3"
  },
  "language_info": {
   "codemirror_mode": {
    "name": "ipython",
    "version": 3
   },
   "file_extension": ".py",
   "mimetype": "text/x-python",
   "name": "python",
   "nbconvert_exporter": "python",
   "pygments_lexer": "ipython3",
   "version": "3.9.12"
  },
  "orig_nbformat": 4,
  "vscode": {
   "interpreter": {
    "hash": "e2f62cb4564c84f0fc417a0719a1997c26b07566098f1a388516455a2c51c4d3"
   }
  }
 },
 "nbformat": 4,
 "nbformat_minor": 2
}
